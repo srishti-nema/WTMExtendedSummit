{
 "cells": [
  {
   "cell_type": "markdown",
   "metadata": {
    "colab_type": "text",
    "id": "6kMejK17uHDu"
   },
   "source": [
    "# Sign Language Recognizer"
   ]
  },
  {
   "cell_type": "markdown",
   "metadata": {
    "colab_type": "text",
    "id": "41KWpg-a9hlK"
   },
   "source": [
    "In this codelab you will train a machine learning model to identify the different signs in  American Sign Language, such that given an image of a hand sign the model predicts what alphabet the sign corresponds to. For this multi class classification problem, we will use 2 different models (a Multi Layer Perceptron and a CNN) and compare the results. "
   ]
  },
  {
   "cell_type": "markdown",
   "metadata": {
    "colab_type": "text",
    "id": "tAHpbbsNAVJN"
   },
   "source": [
    "### Download the data"
   ]
  },
  {
   "cell_type": "markdown",
   "metadata": {
    "colab_type": "text",
    "id": "rnaDwBELAaPz"
   },
   "source": [
    "First let us download the data"
   ]
  },
  {
   "cell_type": "code",
   "execution_count": 0,
   "metadata": {
    "colab": {
     "base_uri": "https://localhost:8080/",
     "height": 204
    },
    "colab_type": "code",
    "id": "ELSo0ZJ9ubO7",
    "outputId": "80e78f90-20dc-4357-fc7f-1b2c2947994d"
   },
   "outputs": [
    {
     "name": "stdout",
     "output_type": "stream",
     "text": [
      "--2019-04-06 12:18:06--  https://raw.githubusercontent.com/anisham197/WTMExtendedSummit/master/data/sign-language-mnist.zip\n",
      "Resolving raw.githubusercontent.com (raw.githubusercontent.com)... 151.101.0.133, 151.101.64.133, 151.101.128.133, ...\n",
      "Connecting to raw.githubusercontent.com (raw.githubusercontent.com)|151.101.0.133|:443... connected.\n",
      "HTTP request sent, awaiting response... 200 OK\n",
      "Length: 32286533 (31M) [application/zip]\n",
      "Saving to: ‘sign-language-mnist.zip’\n",
      "\n",
      "sign-language-mnist 100%[===================>]  30.79M  33.8MB/s    in 0.9s    \n",
      "\n",
      "2019-04-06 12:18:07 (33.8 MB/s) - ‘sign-language-mnist.zip’ saved [32286533/32286533]\n",
      "\n"
     ]
    }
   ],
   "source": [
    "# Download the dataset\n",
    "!wget https://raw.githubusercontent.com/anisham197/WTMExtendedSummit/master/data/sign-language-mnist.zip"
   ]
  },
  {
   "cell_type": "code",
   "execution_count": 0,
   "metadata": {
    "colab": {},
    "colab_type": "code",
    "id": "_PGch19Mur8_"
   },
   "outputs": [],
   "source": [
    "mkdir input"
   ]
  },
  {
   "cell_type": "code",
   "execution_count": 0,
   "metadata": {
    "colab": {},
    "colab_type": "code",
    "id": "gKsfE3Y9vm7L"
   },
   "outputs": [],
   "source": [
    "!unzip sign-language-mnist.zip -d input/"
   ]
  },
  {
   "cell_type": "markdown",
   "metadata": {
    "colab_type": "text",
    "id": "Ix-FhSSAAhkW"
   },
   "source": [
    "Take a look at the different hand signs in American Sign Language"
   ]
  },
  {
   "cell_type": "code",
   "execution_count": 0,
   "metadata": {
    "colab": {},
    "colab_type": "code",
    "id": "w1GpYqitvonc"
   },
   "outputs": [],
   "source": [
    "from IPython.display import Image\n",
    "Image(\"./input/amer_sign2.png\")"
   ]
  },
  {
   "cell_type": "markdown",
   "metadata": {
    "colab_type": "text",
    "id": "3oBtwU7ov5q1"
   },
   "source": [
    "# About the data"
   ]
  },
  {
   "cell_type": "markdown",
   "metadata": {
    "colab_type": "text",
    "id": "5bhEHW8Rv6lz"
   },
   "source": [
    "The American Sign Language letter database of hand gestures represent a multi-class problem with 24 classes of letters (excluding J and Z which require motion). The dataset format is patterned to match closely with the classic MNIST. Each training and test case represents a label (0-25) as a one-to-one map for each alphabetic letter A-Z (and no cases for 9=J or 25=Z because of gesture motions). The training data (27,455 cases) and test data (7172 cases) are approximately half the size of the standard MNIST but otherwise similar with a header row of label, pixel1,pixel2....pixel784 which represent a single 28x28 pixel image with grayscale values between 0-255."
   ]
  },
  {
   "cell_type": "code",
   "execution_count": 0,
   "metadata": {
    "colab": {},
    "colab_type": "code",
    "id": "Y_bltVgXv9S6"
   },
   "outputs": [],
   "source": [
    "from IPython.display import Image\n",
    "Image(\"./input/amer_sign3.png\")"
   ]
  },
  {
   "cell_type": "code",
   "execution_count": 0,
   "metadata": {
    "colab": {},
    "colab_type": "code",
    "id": "AV74xDVxwAEQ"
   },
   "outputs": [],
   "source": [
    "from IPython.display import Image\n",
    "Image(\"./input/american_sign_language.PNG\")"
   ]
  },
  {
   "cell_type": "markdown",
   "metadata": {
    "colab_type": "text",
    "id": "acM4YmsEPt1w"
   },
   "source": [
    "# Data Exploration"
   ]
  },
  {
   "cell_type": "markdown",
   "metadata": {
    "colab_type": "text",
    "id": "4_cO6qmawUiB"
   },
   "source": [
    "### Import Libraries"
   ]
  },
  {
   "cell_type": "markdown",
   "metadata": {
    "colab_type": "text",
    "id": "jeQALCE7BL0-"
   },
   "source": [
    "Import the libraries used in this codelab"
   ]
  },
  {
   "cell_type": "code",
   "execution_count": 0,
   "metadata": {
    "colab": {},
    "colab_type": "code",
    "id": "RDZfSQM2wCSw"
   },
   "outputs": [],
   "source": [
    "import numpy as np\n",
    "import pandas as pd\n",
    "import keras\n",
    "import matplotlib.pyplot as plt"
   ]
  },
  {
   "cell_type": "markdown",
   "metadata": {
    "colab_type": "text",
    "id": "uYlpBZhQwsll"
   },
   "source": [
    "### **Load the dataset**"
   ]
  },
  {
   "cell_type": "code",
   "execution_count": 0,
   "metadata": {
    "colab": {},
    "colab_type": "code",
    "id": "rAsI4E-HwPom"
   },
   "outputs": [],
   "source": [
    "# Load the train and test datasets using pandas.\n",
    "# Reference - https://pandas.pydata.org/pandas-docs/version/0.22/generated/pandas.read_csv.html\n",
    "train = pd.read_csv('./input/sign_mnist_train.csv')\n",
    "test = pd.read_csv('./input/sign_mnist_test.csv')"
   ]
  },
  {
   "cell_type": "code",
   "execution_count": 0,
   "metadata": {
    "colab": {},
    "colab_type": "code",
    "id": "_ztWOZz0zLFZ"
   },
   "outputs": [],
   "source": [
    "# Display first n rows of the data.\n",
    "# Reference - https://pandas.pydata.org/pandas-docs/stable/reference/frame.html\n",
    "train.head(10)"
   ]
  },
  {
   "cell_type": "code",
   "execution_count": 0,
   "metadata": {
    "colab": {},
    "colab_type": "code",
    "id": "uRF9A8FIzipG"
   },
   "outputs": [],
   "source": [
    "# View the dimensionality of the DataFrame.\n",
    "# Reference - https://pandas.pydata.org/pandas-docs/stable/reference/frame.html\n",
    "train.shape"
   ]
  },
  {
   "cell_type": "markdown",
   "metadata": {
    "colab_type": "text",
    "id": "8248ptDQ0g3M"
   },
   "source": [
    "Extract the train/test labels and convert train/test data to numpy arrays.\n",
    "\n"
   ]
  },
  {
   "cell_type": "code",
   "execution_count": 0,
   "metadata": {
    "colab": {},
    "colab_type": "code",
    "id": "wCTzfGfA2lCS"
   },
   "outputs": [],
   "source": [
    "# Load the train and test labels as numpy arrays.\n",
    "# Reference - https://pandas.pydata.org/pandas-docs/version/0.22/generated/pandas.DataFrame.values.html\n",
    "y = train['label'].values\n",
    "y_test = test['label'].values"
   ]
  },
  {
   "cell_type": "code",
   "execution_count": 0,
   "metadata": {
    "colab": {},
    "colab_type": "code",
    "id": "LD2G_-XRPbI9"
   },
   "outputs": [],
   "source": [
    "# Print the train and test labels and their dimensionality.\n",
    "print('Train Labels:\\n', y)\n",
    "print('Shape of Labels:', y.shape)\n",
    "print('Test Labels:\\n', y_test)\n",
    "print('Shape of Test Labels:', y_test.shape)"
   ]
  },
  {
   "cell_type": "code",
   "execution_count": 0,
   "metadata": {
    "colab": {},
    "colab_type": "code",
    "id": "LDk_3lJYP3Xn"
   },
   "outputs": [],
   "source": [
    "x = (train.drop('label', axis = 1, inplace = False)).values\n",
    "x_test = (test.drop('label', axis = 1, inplace = False)).values\n",
    "\n",
    "print('Train Feature matrix:\\n', x)\n",
    "print('Train Shape of Feature matrix:', x.shape)\n",
    "print('Test Feature matrix:\\n', x_test)\n",
    "print('Test Shape of Feature matrix:', x_test.shape)"
   ]
  },
  {
   "cell_type": "markdown",
   "metadata": {
    "colab_type": "text",
    "id": "AjOpxxdYCBwr"
   },
   "source": [
    "Let us plot the label distribution"
   ]
  },
  {
   "cell_type": "code",
   "execution_count": 0,
   "metadata": {
    "colab": {},
    "colab_type": "code",
    "id": "e98Et11iPxOg"
   },
   "outputs": [],
   "source": [
    "import seaborn as sns\n",
    "\n",
    "sns.countplot(x = y)\n",
    "plt.show()"
   ]
  },
  {
   "cell_type": "markdown",
   "metadata": {
    "colab_type": "text",
    "id": "HWCpgKBxCxaK"
   },
   "source": [
    "Convert a row in the dataset to it's corresponding image"
   ]
  },
  {
   "cell_type": "code",
   "execution_count": 0,
   "metadata": {
    "colab": {},
    "colab_type": "code",
    "id": "iWCH1HucP-zx"
   },
   "outputs": [],
   "source": [
    "plt.imshow(x[1].reshape(28,28), cmap='gray')\n",
    "plt.title(str(y[1]) + ' - ' + chr(y[1] + ord('A')))\n",
    "plt.show()"
   ]
  },
  {
   "cell_type": "markdown",
   "metadata": {
    "colab_type": "text",
    "id": "LplzavVUEPyJ"
   },
   "source": [
    "### Data Preprocessing"
   ]
  },
  {
   "cell_type": "markdown",
   "metadata": {
    "colab_type": "text",
    "id": "YQVotY7ZQMGM"
   },
   "source": [
    "Since our target variables are categorical values we encode it as one hot vectors so as to easily compare it with the output of the neural network"
   ]
  },
  {
   "cell_type": "code",
   "execution_count": 0,
   "metadata": {
    "colab": {},
    "colab_type": "code",
    "id": "8eIgQ5v9S_29"
   },
   "outputs": [],
   "source": [
    "num_classes = 26\n",
    "y = keras.utils.to_categorical(y, num_classes)\n",
    "y_test = keras.utils.to_categorical(y_test, num_classes)"
   ]
  },
  {
   "cell_type": "code",
   "execution_count": 0,
   "metadata": {
    "colab": {},
    "colab_type": "code",
    "id": "Cigej53YQUv2"
   },
   "outputs": [],
   "source": [
    "y[0]"
   ]
  },
  {
   "cell_type": "markdown",
   "metadata": {
    "colab_type": "text",
    "id": "Cnl_r7dMEnqb"
   },
   "source": [
    "We also normalize the train and test data "
   ]
  },
  {
   "cell_type": "code",
   "execution_count": 0,
   "metadata": {
    "colab": {},
    "colab_type": "code",
    "id": "7WvMx-kgTZ0S"
   },
   "outputs": [],
   "source": [
    "x = x.astype('float32')\n",
    "x_test = x_test.astype('float32')\n",
    "x /= 255\n",
    "x_test /= 255"
   ]
  },
  {
   "cell_type": "markdown",
   "metadata": {
    "colab_type": "text",
    "id": "HkUjW0BPGA8r"
   },
   "source": [
    "Split the data into train and validation sets"
   ]
  },
  {
   "cell_type": "code",
   "execution_count": 0,
   "metadata": {
    "colab": {},
    "colab_type": "code",
    "id": "0WVhxdgaR9xV"
   },
   "outputs": [],
   "source": [
    "from sklearn.model_selection import train_test_split\n",
    "\n",
    "# Split the training data into train and validation datasets (70-30 split).\n",
    "# Reference - https://scikit-learn.org/stable/modules/generated/sklearn.model_selection.train_test_split.html\n",
    "x_train, x_val, y_train, y_val = train_test_split(x, y, test_size = 0.3, random_state = 101)"
   ]
  },
  {
   "cell_type": "code",
   "execution_count": 0,
   "metadata": {
    "colab": {},
    "colab_type": "code",
    "id": "8Nb1n3UXTale"
   },
   "outputs": [],
   "source": [
    "print(x_train.shape)\n",
    "print(x_val.shape)\n",
    "print(y_train.shape)\n",
    "print(y_val.shape)"
   ]
  },
  {
   "cell_type": "code",
   "execution_count": 0,
   "metadata": {
    "colab": {},
    "colab_type": "code",
    "id": "eMN2WPMwTcw7"
   },
   "outputs": [],
   "source": [
    "x_train[0]"
   ]
  },
  {
   "cell_type": "code",
   "execution_count": 0,
   "metadata": {
    "colab": {},
    "colab_type": "code",
    "id": "1m7xXHIST_Up"
   },
   "outputs": [],
   "source": [
    "y_train[0]"
   ]
  },
  {
   "cell_type": "markdown",
   "metadata": {
    "colab_type": "text",
    "id": "iUEFFVDIQqVW"
   },
   "source": [
    "# Multi Layer Perceptron with Keras"
   ]
  },
  {
   "cell_type": "markdown",
   "metadata": {
    "colab_type": "text",
    "id": "GL_-7z-BJKuB"
   },
   "source": [
    "### Training"
   ]
  },
  {
   "cell_type": "code",
   "execution_count": 0,
   "metadata": {
    "colab": {},
    "colab_type": "code",
    "id": "1aeNFVHIQxhZ"
   },
   "outputs": [],
   "source": [
    "import keras\n",
    "from keras.models import Sequential\n",
    "from keras.layers import Dense, Dropout\n",
    "from keras import optimizers\n",
    "from keras.callbacks import EarlyStopping"
   ]
  },
  {
   "cell_type": "markdown",
   "metadata": {
    "colab_type": "text",
    "id": "HF1CyxT6HDYs"
   },
   "source": [
    "Set the hyperparameters to use in the neural network. Make sure to try different parameters"
   ]
  },
  {
   "cell_type": "code",
   "execution_count": 0,
   "metadata": {
    "colab": {},
    "colab_type": "code",
    "id": "NS2nB8GYUE5j"
   },
   "outputs": [],
   "source": [
    "# Hyperparameters\n",
    "learning_rate = 0.01\n",
    "batch_size = 64\n",
    "epochs = 20\n",
    "L1_no_of_neurons = 512\n",
    "L3_no_of_neurons = 256\n",
    "L2_dropout = 0.1\n",
    "L4_dropout = 0.1"
   ]
  },
  {
   "cell_type": "markdown",
   "metadata": {
    "colab_type": "text",
    "id": "k7R3lSqLHND7"
   },
   "source": [
    "Define the different model layers and compile it"
   ]
  },
  {
   "cell_type": "code",
   "execution_count": 0,
   "metadata": {
    "colab": {},
    "colab_type": "code",
    "id": "nsJpq8ZcUHUD"
   },
   "outputs": [],
   "source": [
    "model = Sequential()\n",
    "\n",
    "# Add a densely connected NN layer with output dimensionality as 'L1_no_of_neurons' and a relu activation.\n",
    "# Reference - https://keras.io/layers/core/#dense\n",
    "model.add(Dense(L1_no_of_neurons, input_shape=(784,), activation='relu'))\n",
    "\n",
    "# Add a dropout layer with 'L2_dropout' dropout rate.\n",
    "# Reference - https://keras.io/layers/core/#dropout\n",
    "model.add(Dropout(rate=L2_dropout))\n",
    "\n",
    "# Let's add another dense layer with output dimensionality as 'L3_no_of_neurons' and relu activation.\n",
    "model.add(Dense(L3_no_of_neurons,  activation='relu'))\n",
    "\n",
    "# Dropout layer with L4_dropout' dropout rate.\n",
    "model.add(Dropout(rate=L4_dropout))\n",
    "\n",
    "# Add a final dense layer with output as 26 classes and softmax activation.\n",
    "model.add(Dense(num_classes,  activation='softmax'))"
   ]
  },
  {
   "cell_type": "code",
   "execution_count": 0,
   "metadata": {
    "colab": {},
    "colab_type": "code",
    "id": "QkIPN1iHRrqi"
   },
   "outputs": [],
   "source": [
    "# Compile the model with an SGD optimizer. Here, we will use the 'categorical_crossentropy' loss function.\n",
    "# Accuracy is one of the metrics we are interested in.\n",
    "# Reference - https://keras.io/models/model/#compile\n",
    "# model.compile(optimizer=optimizers.SGD(lr=learning_rate), loss='categorical_crossentropy', metrics=['accuracy'])\n",
    "model.compile(optimizer=optimizers.Adam(), loss='categorical_crossentropy', metrics=['accuracy'])"
   ]
  },
  {
   "cell_type": "code",
   "execution_count": 0,
   "metadata": {
    "colab": {},
    "colab_type": "code",
    "id": "Fygg_C5IRrtL"
   },
   "outputs": [],
   "source": [
    "# Print the model summary\n",
    "# Reference - https://keras.io/models/about-keras-models/\n",
    "model.summary()"
   ]
  },
  {
   "cell_type": "markdown",
   "metadata": {
    "colab_type": "text",
    "id": "JNosKOGsIirT"
   },
   "source": [
    "Train the compiled neural network on the training data"
   ]
  },
  {
   "cell_type": "code",
   "execution_count": 0,
   "metadata": {
    "colab": {},
    "colab_type": "code",
    "id": "9SvhP4isDexL"
   },
   "outputs": [],
   "source": [
    "history = model.fit(x_train, y_train, epochs=epochs, batch_size=batch_size, validation_data=(x_val, y_val), verbose=2, \n",
    "                    callbacks=[EarlyStopping(monitor='val_loss', patience=4, restore_best_weights=True)])"
   ]
  },
  {
   "cell_type": "markdown",
   "metadata": {
    "colab_type": "text",
    "id": "_axd4XpxJM4S"
   },
   "source": [
    "### Model Performance Visualization"
   ]
  },
  {
   "cell_type": "markdown",
   "metadata": {
    "colab_type": "text",
    "id": "w-5Lbs7BIqiq"
   },
   "source": [
    "Plot a graph of the training and validation accuracy"
   ]
  },
  {
   "cell_type": "code",
   "execution_count": 0,
   "metadata": {
    "colab": {},
    "colab_type": "code",
    "id": "-JTPRGw7Emfx"
   },
   "outputs": [],
   "source": [
    "plt.plot(history.history['acc'])\n",
    "plt.plot(history.history['val_acc'])\n",
    "plt.title(\"Accuracy\")\n",
    "plt.xlabel('epoch')\n",
    "plt.ylabel('accuracy')\n",
    "plt.legend(['train','val'])\n",
    "plt.show()"
   ]
  },
  {
   "cell_type": "markdown",
   "metadata": {
    "colab_type": "text",
    "id": "j8yubiaiI1Ug"
   },
   "source": [
    "Plot a graph of the training and validation loss"
   ]
  },
  {
   "cell_type": "code",
   "execution_count": 0,
   "metadata": {
    "colab": {},
    "colab_type": "code",
    "id": "sbmcs4baI1oV"
   },
   "outputs": [],
   "source": [
    "plt.plot(history.history['loss'])\n",
    "plt.plot(history.history['val_loss'])\n",
    "plt.title(\"Loss\")\n",
    "plt.xlabel('epoch')\n",
    "plt.ylabel('loss')\n",
    "plt.legend(['train','val'])\n",
    "plt.show()"
   ]
  },
  {
   "cell_type": "markdown",
   "metadata": {
    "colab_type": "text",
    "id": "4Va1S6TUJVAN"
   },
   "source": [
    "### Inference"
   ]
  },
  {
   "cell_type": "markdown",
   "metadata": {
    "colab_type": "text",
    "id": "silbNogvJCLa"
   },
   "source": [
    "Predict the output labels of the test set"
   ]
  },
  {
   "cell_type": "code",
   "execution_count": 0,
   "metadata": {
    "colab": {},
    "colab_type": "code",
    "id": "qkcByBE6UY1N"
   },
   "outputs": [],
   "source": [
    "# Predict the output labels for the test dataset.\n",
    "# Reference - https://keras.io/models/model/#predict\n",
    "y_pred = model.predict(x_test)\n",
    "\n",
    "y_pred"
   ]
  },
  {
   "cell_type": "markdown",
   "metadata": {
    "colab_type": "text",
    "id": "oCDtyUDAJgQf"
   },
   "source": [
    "Compute the accuracy of the model"
   ]
  },
  {
   "cell_type": "code",
   "execution_count": 0,
   "metadata": {
    "colab": {},
    "colab_type": "code",
    "id": "HJOvFyxrUa6S"
   },
   "outputs": [],
   "source": [
    "from sklearn.metrics import accuracy_score\n",
    "\n",
    "# Calculate the accuracy of the model.\n",
    "# Reference - https://scikit-learn.org/stable/modules/generated/sklearn.metrics.accuracy_score.html\n",
    "accuracy_score(y_test, y_pred.round())"
   ]
  },
  {
   "cell_type": "markdown",
   "metadata": {
    "colab_type": "text",
    "id": "e-Ce55XwJaH6"
   },
   "source": [
    "## Download the model for online serving"
   ]
  },
  {
   "cell_type": "code",
   "execution_count": 0,
   "metadata": {
    "colab": {},
    "colab_type": "code",
    "id": "yVUTJU-UUhBs"
   },
   "outputs": [],
   "source": [
    "!pip install tensorflowjs==0.8.5"
   ]
  },
  {
   "cell_type": "code",
   "execution_count": 0,
   "metadata": {
    "colab": {},
    "colab_type": "code",
    "id": "kHPmuAmcUhut"
   },
   "outputs": [],
   "source": [
    "import tensorflowjs as tfjs\n",
    "\n",
    "# Save the Keras model we created to use in our web application.\n",
    "# Reference - \n",
    "tfjs.converters.save_keras_model(model, 'mlp.tfjs')"
   ]
  },
  {
   "cell_type": "markdown",
   "metadata": {
    "colab_type": "text",
    "id": "nm-vYJeWlKh8"
   },
   "source": [
    "# CNN with Keras"
   ]
  },
  {
   "cell_type": "markdown",
   "metadata": {
    "colab_type": "text",
    "id": "BHizPkXTSZcu"
   },
   "source": [
    "### Data Preprocessing"
   ]
  },
  {
   "cell_type": "code",
   "execution_count": 0,
   "metadata": {
    "colab": {},
    "colab_type": "code",
    "id": "bEqwsp4nlOwZ"
   },
   "outputs": [],
   "source": [
    "import keras\n",
    "from keras.models import Sequential\n",
    "from keras.layers import Dense, Conv2D, MaxPooling2D, Flatten, Dropout"
   ]
  },
  {
   "cell_type": "markdown",
   "metadata": {
    "colab_type": "text",
    "id": "G59DEDgvWUpT"
   },
   "source": [
    "Load the train and test dataset and sepearate into data and labels"
   ]
  },
  {
   "cell_type": "code",
   "execution_count": 0,
   "metadata": {
    "colab": {},
    "colab_type": "code",
    "id": "9XndgdTRZGp5"
   },
   "outputs": [],
   "source": [
    "# Load the train and test datasets.\n",
    "# Reference - https://pandas.pydata.org/pandas-docs/version/0.22/generated/pandas.read_csv.html\n",
    "train = pd.read_csv('./input/sign_mnist_train.csv')\n",
    "test = pd.read_csv('./input/sign_mnist_test.csv')\n",
    "\n",
    "y = train['label'].values\n",
    "y_test = test['label'].values\n",
    "x = (train.drop('label', axis = 1, inplace = False)).values\n",
    "x_test = (test.drop('label', axis = 1, inplace = False)).values"
   ]
  },
  {
   "cell_type": "markdown",
   "metadata": {
    "colab_type": "text",
    "id": "5IIX117gWad9"
   },
   "source": [
    "Convert the labels into one-hot vectors"
   ]
  },
  {
   "cell_type": "code",
   "execution_count": 0,
   "metadata": {
    "colab": {},
    "colab_type": "code",
    "id": "bLAVsVVAZGjk"
   },
   "outputs": [],
   "source": [
    "num_classes = 26\n",
    "y = keras.utils.to_categorical(y, num_classes)\n",
    "y_test = keras.utils.to_categorical(y_test, num_classes)"
   ]
  },
  {
   "cell_type": "markdown",
   "metadata": {
    "colab_type": "text",
    "id": "1xuCB0srWiDf"
   },
   "source": [
    "Normalize the data and reshape to input expected by CNN"
   ]
  },
  {
   "cell_type": "code",
   "execution_count": 0,
   "metadata": {
    "colab": {},
    "colab_type": "code",
    "id": "ck2MKhgsmjOG"
   },
   "outputs": [],
   "source": [
    "x = x.astype('float32')\n",
    "x_test = x_test.astype('float32')\n",
    "x /=  255\n",
    "x_test /= 255\n",
    "x = x.reshape(x.shape[0], 28, 28, 1)\n",
    "x_test = x_test.reshape(x_test.shape[0], 28, 28, 1)"
   ]
  },
  {
   "cell_type": "markdown",
   "metadata": {
    "colab_type": "text",
    "id": "vlENl29rWsi-"
   },
   "source": [
    "Split the data into train and validation"
   ]
  },
  {
   "cell_type": "code",
   "execution_count": 0,
   "metadata": {
    "colab": {},
    "colab_type": "code",
    "id": "EQFIFnF2ZGMv"
   },
   "outputs": [],
   "source": [
    "from sklearn.model_selection import train_test_split\n",
    "\n",
    "# Split the training data into train and validation datasets (70-30 split).\n",
    "# Reference - https://scikit-learn.org/stable/modules/generated/sklearn.model_selection.train_test_split.html\n",
    "x_train, x_val, y_train, y_val = train_test_split(x, y, test_size = 0.3, random_state = 101)"
   ]
  },
  {
   "cell_type": "markdown",
   "metadata": {
    "colab_type": "text",
    "id": "-Bi6oHoWW6TM"
   },
   "source": [
    "Set the hyperparameters of the model"
   ]
  },
  {
   "cell_type": "code",
   "execution_count": 0,
   "metadata": {
    "colab": {},
    "colab_type": "code",
    "id": "07RofLPYZGcQ"
   },
   "outputs": [],
   "source": [
    "batch_size = 128\n",
    "num_classes = 26\n",
    "epochs = 10"
   ]
  },
  {
   "cell_type": "markdown",
   "metadata": {
    "colab_type": "text",
    "id": "1AjO4gd_W7TO"
   },
   "source": [
    "Define the network architecture"
   ]
  },
  {
   "cell_type": "code",
   "execution_count": 0,
   "metadata": {
    "colab": {},
    "colab_type": "code",
    "id": "irxhj4ThnMdL"
   },
   "outputs": [],
   "source": [
    "model = Sequential()\n",
    "\n",
    "# Add a 2D convolution layer with 64 filters, a 3 x 3 kernel and relu activation.\n",
    "# Reference - https://keras.io/layers/convolutional/#conv2d\n",
    "model.add(Conv2D(64, kernel_size=(3,3), activation = 'relu', input_shape=(28, 28 ,1) ))\n",
    "\n",
    "# The convolution layer is followed by a maxpool layer with a 2 x 2 filter.\n",
    "# Reference - https://keras.io/layers/pooling/#maxpooling2d\n",
    "model.add(MaxPooling2D(pool_size = (2, 2)))\n",
    "\n",
    "# Add another convolution layer with 64 filters, a 3 x 3 kernel and relu activation.\n",
    "# Follow this with a maxpool layer with a 2 x 2 filter.\n",
    "model.add(Conv2D(64, kernel_size = (3, 3), activation = 'relu'))\n",
    "model.add(MaxPooling2D(pool_size = (2, 2)))\n",
    "\n",
    "# Add a third convolution layer with 64 filters, a 3 x 3 kernel and relu activation.\n",
    "# Follow this with a maxpool layer with a 2 x 2 filter.\n",
    "model.add(Conv2D(64, kernel_size = (3, 3), activation = 'relu'))\n",
    "model.add(MaxPooling2D(pool_size = (2, 2)))\n",
    "\n",
    "# Flatten the input to the model.\n",
    "# Reference - https://keras.io/layers/core/#flatten\n",
    "model.add(Flatten())\n",
    "\n",
    "# Add a dense layer with with output space as 128 and relu activation.\n",
    "# Reference - https://keras.io/layers/core/#dense\n",
    "model.add(Dense(128, activation = 'relu'))\n",
    "\n",
    "# Add a droupout layer with 20% of the input units set to 0.\n",
    "# Reference - https://keras.io/layers/core/#dropout\n",
    "model.add(Dropout(0.20))\n",
    "\n",
    "# Add a final dense layer with output as 26 classes and softmax activation.\n",
    "model.add(Dense(num_classes, activation = 'softmax'))"
   ]
  },
  {
   "cell_type": "markdown",
   "metadata": {
    "colab_type": "text",
    "id": "WnxTz7D7XA_y"
   },
   "source": [
    "Compile the model and view the summary"
   ]
  },
  {
   "cell_type": "code",
   "execution_count": 0,
   "metadata": {
    "colab": {},
    "colab_type": "code",
    "id": "qWe85VGFnT__"
   },
   "outputs": [],
   "source": [
    "# Compile the model with an Adam optimizer. Here, we will use the 'categorical_crossentropy' loss function.\n",
    "# Accuracy is one of the metrics we are interested in.\n",
    "# Reference - https://keras.io/models/model/#compile\n",
    "model.compile(loss = keras.losses.categorical_crossentropy, optimizer=keras.optimizers.Adam(), metrics=['accuracy'])\n",
    "\n",
    "# Print the model summary\n",
    "# Reference - https://keras.io/models/about-keras-models/\n",
    "model.summary()"
   ]
  },
  {
   "cell_type": "markdown",
   "metadata": {
    "colab_type": "text",
    "id": "8nEukgrpXFr0"
   },
   "source": [
    "Train the model on the training data"
   ]
  },
  {
   "cell_type": "code",
   "execution_count": 0,
   "metadata": {
    "colab": {},
    "colab_type": "code",
    "id": "o5liMiHenb56"
   },
   "outputs": [],
   "source": [
    "# Train the model providing training data, labels, validation data, epochs and batch size.\n",
    "# Reference - https://keras.io/models/model/#fit\n",
    "history = model.fit(x_train, y_train, validation_data = (x_val, y_val), epochs=epochs, batch_size=batch_size)"
   ]
  },
  {
   "cell_type": "markdown",
   "metadata": {
    "colab_type": "text",
    "id": "eTs1FkB6XOpj"
   },
   "source": [
    "Plot the accuracy over train and validation datasets"
   ]
  },
  {
   "cell_type": "code",
   "execution_count": 0,
   "metadata": {
    "colab": {},
    "colab_type": "code",
    "id": "YaTj3sipnett"
   },
   "outputs": [],
   "source": [
    "plt.plot(history.history['acc'])\n",
    "plt.plot(history.history['val_acc'])\n",
    "plt.title(\"Accuracy\")\n",
    "plt.xlabel('epoch')\n",
    "plt.ylabel('accuracy')\n",
    "plt.legend(['train','val'])\n",
    "plt.show()"
   ]
  },
  {
   "cell_type": "markdown",
   "metadata": {
    "colab_type": "text",
    "id": "a0sBEHfVcOTN"
   },
   "source": [
    "Plot the loss over train and validation datasets"
   ]
  },
  {
   "cell_type": "code",
   "execution_count": 0,
   "metadata": {
    "colab": {},
    "colab_type": "code",
    "id": "tTcYbF8ncR60"
   },
   "outputs": [],
   "source": [
    "plt.plot(history.history['loss'])\n",
    "plt.plot(history.history['val_loss'])\n",
    "plt.title(\"Loss\")\n",
    "plt.xlabel('epoch')\n",
    "plt.ylabel('loss')\n",
    "plt.legend(['train','val'])\n",
    "plt.show()"
   ]
  },
  {
   "cell_type": "markdown",
   "metadata": {
    "colab_type": "text",
    "id": "WRB0N0iRXTkE"
   },
   "source": [
    "### Inference"
   ]
  },
  {
   "cell_type": "markdown",
   "metadata": {
    "colab_type": "text",
    "id": "JyW_9htsXV13"
   },
   "source": [
    "Predict the output labels of the test set"
   ]
  },
  {
   "cell_type": "code",
   "execution_count": 0,
   "metadata": {
    "colab": {},
    "colab_type": "code",
    "id": "TZgik1Lrpev1"
   },
   "outputs": [],
   "source": [
    "# Predict the output labels for the test dataset.\n",
    "# Reference - https://keras.io/models/model/#predict\n",
    "y_pred = model.predict(x_test)\n",
    "\n",
    "y_pred"
   ]
  },
  {
   "cell_type": "markdown",
   "metadata": {
    "colab_type": "text",
    "id": "7hn2ZeAfXZaA"
   },
   "source": [
    "Compute the accuracy on the test set"
   ]
  },
  {
   "cell_type": "code",
   "execution_count": 0,
   "metadata": {
    "colab": {},
    "colab_type": "code",
    "id": "-5LR7Buspih_"
   },
   "outputs": [],
   "source": [
    "from sklearn.metrics import accuracy_score\n",
    "\n",
    "# Calculate the accuracy of the model.\n",
    "# Reference - https://scikit-learn.org/stable/modules/generated/sklearn.metrics.accuracy_score.html\n",
    "accuracy_score(y_test, y_pred.round())"
   ]
  },
  {
   "cell_type": "markdown",
   "metadata": {
    "colab_type": "text",
    "id": "pqbX3igIXe8_"
   },
   "source": [
    "## Download the model for online serving"
   ]
  },
  {
   "cell_type": "code",
   "execution_count": 0,
   "metadata": {
    "colab": {},
    "colab_type": "code",
    "id": "pX1eOoVyprN8"
   },
   "outputs": [],
   "source": [
    "!pip install tensorflowjs==0.8.5"
   ]
  },
  {
   "cell_type": "code",
   "execution_count": 0,
   "metadata": {
    "colab": {},
    "colab_type": "code",
    "id": "m9oiM8T4pvWM"
   },
   "outputs": [],
   "source": [
    "import tensorflowjs as tfjs\n",
    "\n",
    "# Save the Keras model we created to use in our web application.\n",
    "# Reference - \n",
    "tfjs.converters.save_keras_model(model, 'cnn.tfjs')"
   ]
  }
 ],
 "metadata": {
  "colab": {
   "collapsed_sections": [],
   "name": "Reference Colab Short",
   "provenance": [],
   "toc_visible": true,
   "version": "0.3.2"
  },
  "kernelspec": {
   "display_name": "Python 3",
   "language": "python",
   "name": "python3"
  },
  "language_info": {
   "codemirror_mode": {
    "name": "ipython",
    "version": 3
   },
   "file_extension": ".py",
   "mimetype": "text/x-python",
   "name": "python",
   "nbconvert_exporter": "python",
   "pygments_lexer": "ipython3",
   "version": "3.8.8"
  }
 },
 "nbformat": 4,
 "nbformat_minor": 1
}
